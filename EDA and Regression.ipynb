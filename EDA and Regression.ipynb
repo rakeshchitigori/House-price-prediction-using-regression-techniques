{
 "cells": [
  {
   "cell_type": "code",
   "execution_count": 3,
   "metadata": {},
   "outputs": [
    {
     "name": "stdout",
     "output_type": "stream",
     "text": [
      "done\n"
     ]
    }
   ],
   "source": [
    "import warnings\n",
    "warnings.filterwarnings(\"ignore\")\n",
    "import pandas as pd\n",
    "import numpy as np\n",
    "import datetime\n",
    "import matplotlib.pyplot as plt\n",
    "import matplotlib\n",
    "import seaborn as sns\n",
    "from sklearn.metrics import confusion_matrix\n",
    "from sklearn.linear_model import LinearRegression\n",
    "from sklearn.ensemble import RandomForestRegressor\n",
    "import math \n",
    "np.random.seed(2019)\n",
    "from scipy.stats import skew\n",
    "from scipy import stats\n",
    "from sklearn.tree import DecisionTreeRegressor\n",
    "from sklearn.ensemble import RandomForestRegressor\n",
    "from sklearn.ensemble import RandomForestClassifier\n",
    "from xgboost.sklearn import XGBClassifier\n",
    "from xgboost.sklearn import XGBRegressor\n",
    "\n",
    "import statsmodels\n",
    "\n",
    "#!pip install ml_metrics\n",
    "from ml_metrics import rmsle\n",
    "\n",
    "import matplotlib.pyplot as plt\n",
    "%matplotlib inline\n",
    "print(\"done\")"
   ]
  },
  {
   "cell_type": "code",
   "execution_count": 5,
   "metadata": {},
   "outputs": [],
   "source": [
    "def read_and_concat_dataset(training_path, test_path):\n",
    "    train = pd.read_csv('train.csv')\n",
    "    train['train'] = 1\n",
    "    test = pd.read_csv('test.csv')\n",
    "    test['train'] = 0\n",
    "    data = train.append(test, ignore_index=True)\n",
    "    return train, test, data\n",
    "\n",
    "train, test, data = read_and_concat_dataset('train.csv', 'test.csv')\n",
    "data = data.set_index('Id')"
   ]
  },
  {
   "cell_type": "markdown",
   "metadata": {},
   "source": [
    "Counting missing values from all columns"
   ]
  },
  {
   "cell_type": "code",
   "execution_count": 6,
   "metadata": {},
   "outputs": [
    {
     "data": {
      "text/plain": [
       "Index(['Alley', 'BsmtCond', 'BsmtExposure', 'BsmtFinSF1', 'BsmtFinSF2',\n",
       "       'BsmtFinType1', 'BsmtFinType2', 'BsmtFullBath', 'BsmtHalfBath',\n",
       "       'BsmtQual', 'BsmtUnfSF', 'Electrical', 'Exterior1st', 'Exterior2nd',\n",
       "       'Fence', 'FireplaceQu', 'Functional', 'GarageArea', 'GarageCars',\n",
       "       'GarageCond', 'GarageFinish', 'GarageQual', 'GarageType', 'GarageYrBlt',\n",
       "       'KitchenQual', 'LotFrontage', 'MSZoning', 'MasVnrArea', 'MasVnrType',\n",
       "       'MiscFeature', 'PoolQC', 'SalePrice', 'SaleType', 'TotalBsmtSF',\n",
       "       'Utilities'],\n",
       "      dtype='object')"
      ]
     },
     "execution_count": 6,
     "metadata": {},
     "output_type": "execute_result"
    }
   ],
   "source": [
    "data.columns[data.isnull().sum()>0]\n"
   ]
  },
  {
   "cell_type": "markdown",
   "metadata": {},
   "source": [
    "Counting number of missing values of one column"
   ]
  },
  {
   "cell_type": "code",
   "execution_count": 7,
   "metadata": {},
   "outputs": [],
   "source": [
    "  dfObj = pd.DataFrame(train, columns = ['Alley'])"
   ]
  },
  {
   "cell_type": "code",
   "execution_count": 8,
   "metadata": {},
   "outputs": [
    {
     "data": {
      "text/plain": [
       "1369"
      ]
     },
     "execution_count": 8,
     "metadata": {},
     "output_type": "execute_result"
    }
   ],
   "source": [
    "dfObj.isnull().sum().sum()"
   ]
  },
  {
   "cell_type": "code",
   "execution_count": 12,
   "metadata": {},
   "outputs": [
    {
     "data": {
      "text/plain": [
       "(1460, 1)"
      ]
     },
     "execution_count": 12,
     "metadata": {},
     "output_type": "execute_result"
    }
   ],
   "source": [
    "dfObj.shape"
   ]
  },
  {
   "cell_type": "code",
   "execution_count": 176,
   "metadata": {},
   "outputs": [
    {
     "name": "stdout",
     "output_type": "stream",
     "text": [
      "Index(['1stFlrSF', '2ndFlrSF', '3SsnPorch', 'Alley', 'BedroomAbvGr',\n",
      "       'BldgType', 'BsmtCond', 'BsmtExposure', 'BsmtFinSF1', 'BsmtFinSF2',\n",
      "       'BsmtFinType1', 'BsmtFinType2', 'BsmtFullBath', 'BsmtHalfBath',\n",
      "       'BsmtQual', 'BsmtUnfSF', 'CentralAir', 'Condition1', 'Condition2',\n",
      "       'Electrical', 'EnclosedPorch', 'ExterCond', 'ExterQual', 'Exterior1st',\n",
      "       'Exterior2nd', 'Fence', 'FireplaceQu', 'Fireplaces', 'Foundation',\n",
      "       'FullBath', 'Functional', 'GarageArea', 'GarageCars', 'GarageCond',\n",
      "       'GarageFinish', 'GarageQual', 'GarageType', 'GarageYrBlt', 'GrLivArea',\n",
      "       'HalfBath', 'Heating', 'HeatingQC', 'HouseStyle', 'KitchenAbvGr',\n",
      "       'KitchenQual', 'LandContour', 'LandSlope', 'LotArea', 'LotConfig',\n",
      "       'LotFrontage', 'LotShape', 'LowQualFinSF', 'MSSubClass', 'MSZoning',\n",
      "       'MasVnrArea', 'MasVnrType', 'MiscFeature', 'MiscVal', 'MoSold',\n",
      "       'Neighborhood', 'OpenPorchSF', 'OverallCond', 'OverallQual',\n",
      "       'PavedDrive', 'PoolArea', 'PoolQC', 'RoofMatl', 'RoofStyle',\n",
      "       'SaleCondition', 'SalePrice', 'SaleType', 'ScreenPorch', 'Street',\n",
      "       'TotRmsAbvGrd', 'TotalBsmtSF', 'WoodDeckSF', 'YearBuilt',\n",
      "       'YearRemodAdd', 'YrSold', 'train', '2ndFloor'],\n",
      "      dtype='object')\n"
     ]
    }
   ],
   "source": [
    "print(data.columns)"
   ]
  },
  {
   "cell_type": "code",
   "execution_count": 178,
   "metadata": {},
   "outputs": [
    {
     "name": "stdout",
     "output_type": "stream",
     "text": [
      "<class 'pandas.core.frame.DataFrame'>\n",
      "Int64Index: 2919 entries, 1 to 2919\n",
      "Data columns (total 81 columns):\n",
      "1stFlrSF         2919 non-null int64\n",
      "2ndFlrSF         2919 non-null int64\n",
      "3SsnPorch        2919 non-null int64\n",
      "Alley            2919 non-null object\n",
      "BedroomAbvGr     2919 non-null int64\n",
      "BldgType         2919 non-null object\n",
      "BsmtCond         2919 non-null object\n",
      "BsmtExposure     2919 non-null object\n",
      "BsmtFinSF1       2919 non-null float64\n",
      "BsmtFinSF2       2919 non-null float64\n",
      "BsmtFinType1     2919 non-null object\n",
      "BsmtFinType2     2919 non-null object\n",
      "BsmtFullBath     2919 non-null int64\n",
      "BsmtHalfBath     2919 non-null int64\n",
      "BsmtQual         2919 non-null object\n",
      "BsmtUnfSF        2919 non-null float64\n",
      "CentralAir       2919 non-null object\n",
      "Condition1       2919 non-null object\n",
      "Condition2       2919 non-null object\n",
      "Electrical       2919 non-null object\n",
      "EnclosedPorch    2919 non-null int64\n",
      "ExterCond        2919 non-null object\n",
      "ExterQual        2919 non-null object\n",
      "Exterior1st      2919 non-null object\n",
      "Exterior2nd      2919 non-null object\n",
      "Fence            2919 non-null object\n",
      "FireplaceQu      2919 non-null object\n",
      "Fireplaces       2919 non-null int64\n",
      "Foundation       2919 non-null object\n",
      "FullBath         2919 non-null int64\n",
      "Functional       2919 non-null object\n",
      "GarageArea       2919 non-null float64\n",
      "GarageCars       2919 non-null float64\n",
      "GarageCond       2919 non-null object\n",
      "GarageFinish     2919 non-null object\n",
      "GarageQual       2919 non-null object\n",
      "GarageType       2919 non-null object\n",
      "GarageYrBlt      2919 non-null float64\n",
      "GrLivArea        2919 non-null int64\n",
      "HalfBath         2919 non-null int64\n",
      "Heating          2919 non-null object\n",
      "HeatingQC        2919 non-null object\n",
      "HouseStyle       2919 non-null object\n",
      "KitchenAbvGr     2919 non-null int64\n",
      "KitchenQual      2919 non-null int64\n",
      "LandContour      2919 non-null object\n",
      "LandSlope        2919 non-null object\n",
      "LotArea          2919 non-null int64\n",
      "LotConfig        2919 non-null object\n",
      "LotFrontage      2919 non-null float64\n",
      "LotShape         2919 non-null object\n",
      "LowQualFinSF     2919 non-null int64\n",
      "MSSubClass       2919 non-null object\n",
      "MSZoning         2919 non-null object\n",
      "MasVnrArea       2919 non-null float64\n",
      "MasVnrType       2919 non-null object\n",
      "MiscFeature      2919 non-null object\n",
      "MiscVal          2919 non-null int64\n",
      "MoSold           2919 non-null int64\n",
      "Neighborhood     2919 non-null object\n",
      "OpenPorchSF      2919 non-null int64\n",
      "OverallCond      2919 non-null int64\n",
      "OverallQual      2919 non-null int64\n",
      "PavedDrive       2919 non-null object\n",
      "PoolArea         2919 non-null int64\n",
      "PoolQC           2919 non-null object\n",
      "RoofMatl         2919 non-null object\n",
      "RoofStyle        2919 non-null object\n",
      "SaleCondition    2919 non-null object\n",
      "SalePrice        1460 non-null float64\n",
      "SaleType         2919 non-null object\n",
      "ScreenPorch      2919 non-null int64\n",
      "Street           2919 non-null object\n",
      "TotRmsAbvGrd     2919 non-null int64\n",
      "TotalBsmtSF      2919 non-null float64\n",
      "WoodDeckSF       2919 non-null int64\n",
      "YearBuilt        2919 non-null int64\n",
      "YearRemodAdd     2919 non-null int64\n",
      "YrSold           2919 non-null int64\n",
      "train            2919 non-null int64\n",
      "2ndFloor         2919 non-null int64\n",
      "dtypes: float64(10), int64(29), object(42)\n",
      "memory usage: 1.9+ MB\n"
     ]
    }
   ],
   "source": [
    "data.info()"
   ]
  },
  {
   "cell_type": "code",
   "execution_count": 13,
   "metadata": {},
   "outputs": [
    {
     "data": {
      "text/html": [
       "<div>\n",
       "<style scoped>\n",
       "    .dataframe tbody tr th:only-of-type {\n",
       "        vertical-align: middle;\n",
       "    }\n",
       "\n",
       "    .dataframe tbody tr th {\n",
       "        vertical-align: top;\n",
       "    }\n",
       "\n",
       "    .dataframe thead th {\n",
       "        text-align: right;\n",
       "    }\n",
       "</style>\n",
       "<table border=\"1\" class=\"dataframe\">\n",
       "  <thead>\n",
       "    <tr style=\"text-align: right;\">\n",
       "      <th></th>\n",
       "      <th>1stFlrSF</th>\n",
       "      <th>2ndFlrSF</th>\n",
       "      <th>3SsnPorch</th>\n",
       "      <th>Alley</th>\n",
       "      <th>BedroomAbvGr</th>\n",
       "      <th>BldgType</th>\n",
       "      <th>BsmtCond</th>\n",
       "      <th>BsmtExposure</th>\n",
       "      <th>BsmtFinSF1</th>\n",
       "      <th>BsmtFinSF2</th>\n",
       "      <th>...</th>\n",
       "      <th>ScreenPorch</th>\n",
       "      <th>Street</th>\n",
       "      <th>TotRmsAbvGrd</th>\n",
       "      <th>TotalBsmtSF</th>\n",
       "      <th>Utilities</th>\n",
       "      <th>WoodDeckSF</th>\n",
       "      <th>YearBuilt</th>\n",
       "      <th>YearRemodAdd</th>\n",
       "      <th>YrSold</th>\n",
       "      <th>train</th>\n",
       "    </tr>\n",
       "    <tr>\n",
       "      <th>Id</th>\n",
       "      <th></th>\n",
       "      <th></th>\n",
       "      <th></th>\n",
       "      <th></th>\n",
       "      <th></th>\n",
       "      <th></th>\n",
       "      <th></th>\n",
       "      <th></th>\n",
       "      <th></th>\n",
       "      <th></th>\n",
       "      <th></th>\n",
       "      <th></th>\n",
       "      <th></th>\n",
       "      <th></th>\n",
       "      <th></th>\n",
       "      <th></th>\n",
       "      <th></th>\n",
       "      <th></th>\n",
       "      <th></th>\n",
       "      <th></th>\n",
       "      <th></th>\n",
       "    </tr>\n",
       "  </thead>\n",
       "  <tbody>\n",
       "    <tr>\n",
       "      <th>1</th>\n",
       "      <td>856</td>\n",
       "      <td>854</td>\n",
       "      <td>0</td>\n",
       "      <td>NaN</td>\n",
       "      <td>3</td>\n",
       "      <td>1Fam</td>\n",
       "      <td>TA</td>\n",
       "      <td>No</td>\n",
       "      <td>706.0</td>\n",
       "      <td>0.0</td>\n",
       "      <td>...</td>\n",
       "      <td>0</td>\n",
       "      <td>Pave</td>\n",
       "      <td>8</td>\n",
       "      <td>856.0</td>\n",
       "      <td>AllPub</td>\n",
       "      <td>0</td>\n",
       "      <td>2003</td>\n",
       "      <td>2003</td>\n",
       "      <td>2008</td>\n",
       "      <td>1</td>\n",
       "    </tr>\n",
       "    <tr>\n",
       "      <th>2</th>\n",
       "      <td>1262</td>\n",
       "      <td>0</td>\n",
       "      <td>0</td>\n",
       "      <td>NaN</td>\n",
       "      <td>3</td>\n",
       "      <td>1Fam</td>\n",
       "      <td>TA</td>\n",
       "      <td>Gd</td>\n",
       "      <td>978.0</td>\n",
       "      <td>0.0</td>\n",
       "      <td>...</td>\n",
       "      <td>0</td>\n",
       "      <td>Pave</td>\n",
       "      <td>6</td>\n",
       "      <td>1262.0</td>\n",
       "      <td>AllPub</td>\n",
       "      <td>298</td>\n",
       "      <td>1976</td>\n",
       "      <td>1976</td>\n",
       "      <td>2007</td>\n",
       "      <td>1</td>\n",
       "    </tr>\n",
       "    <tr>\n",
       "      <th>3</th>\n",
       "      <td>920</td>\n",
       "      <td>866</td>\n",
       "      <td>0</td>\n",
       "      <td>NaN</td>\n",
       "      <td>3</td>\n",
       "      <td>1Fam</td>\n",
       "      <td>TA</td>\n",
       "      <td>Mn</td>\n",
       "      <td>486.0</td>\n",
       "      <td>0.0</td>\n",
       "      <td>...</td>\n",
       "      <td>0</td>\n",
       "      <td>Pave</td>\n",
       "      <td>6</td>\n",
       "      <td>920.0</td>\n",
       "      <td>AllPub</td>\n",
       "      <td>0</td>\n",
       "      <td>2001</td>\n",
       "      <td>2002</td>\n",
       "      <td>2008</td>\n",
       "      <td>1</td>\n",
       "    </tr>\n",
       "    <tr>\n",
       "      <th>4</th>\n",
       "      <td>961</td>\n",
       "      <td>756</td>\n",
       "      <td>0</td>\n",
       "      <td>NaN</td>\n",
       "      <td>3</td>\n",
       "      <td>1Fam</td>\n",
       "      <td>Gd</td>\n",
       "      <td>No</td>\n",
       "      <td>216.0</td>\n",
       "      <td>0.0</td>\n",
       "      <td>...</td>\n",
       "      <td>0</td>\n",
       "      <td>Pave</td>\n",
       "      <td>7</td>\n",
       "      <td>756.0</td>\n",
       "      <td>AllPub</td>\n",
       "      <td>0</td>\n",
       "      <td>1915</td>\n",
       "      <td>1970</td>\n",
       "      <td>2006</td>\n",
       "      <td>1</td>\n",
       "    </tr>\n",
       "    <tr>\n",
       "      <th>5</th>\n",
       "      <td>1145</td>\n",
       "      <td>1053</td>\n",
       "      <td>0</td>\n",
       "      <td>NaN</td>\n",
       "      <td>4</td>\n",
       "      <td>1Fam</td>\n",
       "      <td>TA</td>\n",
       "      <td>Av</td>\n",
       "      <td>655.0</td>\n",
       "      <td>0.0</td>\n",
       "      <td>...</td>\n",
       "      <td>0</td>\n",
       "      <td>Pave</td>\n",
       "      <td>9</td>\n",
       "      <td>1145.0</td>\n",
       "      <td>AllPub</td>\n",
       "      <td>192</td>\n",
       "      <td>2000</td>\n",
       "      <td>2000</td>\n",
       "      <td>2008</td>\n",
       "      <td>1</td>\n",
       "    </tr>\n",
       "  </tbody>\n",
       "</table>\n",
       "<p>5 rows × 81 columns</p>\n",
       "</div>"
      ],
      "text/plain": [
       "    1stFlrSF  2ndFlrSF  3SsnPorch Alley  BedroomAbvGr BldgType BsmtCond  \\\n",
       "Id                                                                        \n",
       "1        856       854          0   NaN             3     1Fam       TA   \n",
       "2       1262         0          0   NaN             3     1Fam       TA   \n",
       "3        920       866          0   NaN             3     1Fam       TA   \n",
       "4        961       756          0   NaN             3     1Fam       Gd   \n",
       "5       1145      1053          0   NaN             4     1Fam       TA   \n",
       "\n",
       "   BsmtExposure  BsmtFinSF1  BsmtFinSF2  ... ScreenPorch Street  TotRmsAbvGrd  \\\n",
       "Id                                       ...                                    \n",
       "1            No       706.0         0.0  ...           0   Pave             8   \n",
       "2            Gd       978.0         0.0  ...           0   Pave             6   \n",
       "3            Mn       486.0         0.0  ...           0   Pave             6   \n",
       "4            No       216.0         0.0  ...           0   Pave             7   \n",
       "5            Av       655.0         0.0  ...           0   Pave             9   \n",
       "\n",
       "    TotalBsmtSF Utilities  WoodDeckSF YearBuilt YearRemodAdd YrSold train  \n",
       "Id                                                                         \n",
       "1         856.0    AllPub           0      2003         2003   2008     1  \n",
       "2        1262.0    AllPub         298      1976         1976   2007     1  \n",
       "3         920.0    AllPub           0      2001         2002   2008     1  \n",
       "4         756.0    AllPub           0      1915         1970   2006     1  \n",
       "5        1145.0    AllPub         192      2000         2000   2008     1  \n",
       "\n",
       "[5 rows x 81 columns]"
      ]
     },
     "execution_count": 13,
     "metadata": {},
     "output_type": "execute_result"
    }
   ],
   "source": [
    "data.head()"
   ]
  },
  {
   "cell_type": "markdown",
   "metadata": {},
   "source": [
    "# Fixing Variables"
   ]
  },
  {
   "cell_type": "markdown",
   "metadata": {},
   "source": [
    "Filling  missing values for varaibles  GarageCond,GarageQual...MiscFeature with none.\n",
    "Garagecond has NaN values which cannot be considered as null because with no garage it cannot be null rather it is nor available."
   ]
  },
  {
   "cell_type": "code",
   "execution_count": 14,
   "metadata": {},
   "outputs": [],
   "source": [
    "def filling_missing_values(data,variable, new_value):\n",
    "    data[variable] = data[variable].fillna(new_value)"
   ]
  },
  {
   "cell_type": "code",
   "execution_count": 15,
   "metadata": {},
   "outputs": [],
   "source": [
    "filling_missing_values(data,'GarageCond','None')\n",
    "filling_missing_values(data,'GarageQual','None')\n",
    "filling_missing_values(data,'FireplaceQu','None')\n",
    "filling_missing_values(data,'BsmtCond','None')\n",
    "filling_missing_values(data,'BsmtQual','None')\n",
    "filling_missing_values(data,'PoolQC','None')\n",
    "filling_missing_values(data,'MiscFeature','None')"
   ]
  },
  {
   "cell_type": "markdown",
   "metadata": {},
   "source": [
    "MSSubClass: Identifies the type of dwelling involved in the sale.\t\n",
    "\n",
    "        20\t1-STORY 1946 & NEWER ALL STYLES\n",
    "        30\t1-STORY 1945 & OLDER\n",
    "        40\t1-STORY W/FINISHED ATTIC ALL AGES\n",
    "        45\t1-1/2 STORY - UNFINISHED ALL AGES\n",
    "        50\t1-1/2 STORY FINISHED ALL AGES\n",
    "        60\t2-STORY 1946 & NEWER\n",
    "        70\t2-STORY 1945 & OLDER\n",
    "        75\t2-1/2 STORY ALL AGES\n",
    "        80\tSPLIT OR MULTI-LEVEL\n",
    "        85\tSPLIT FOYER\n",
    "        90\tDUPLEX - ALL STYLES AND AGES\n",
    "       120\t1-STORY PUD (Planned Unit Development) - 1946 & NEWER\n",
    "       150\t1-1/2 STORY PUD - ALL AGES\n",
    "       160\t2-STORY PUD - 1946 & NEWER\n",
    "       180\tPUD - MULTILEVEL - INCL SPLIT LEV/FOYER\n",
    "       190\t2 FAMILY CONVERSION - ALL STYLES AND AGES\n",
    " Since MsSubclass is a ctegorical variable replacing its numerical ids to categorical values."
   ]
  },
  {
   "cell_type": "code",
   "execution_count": 16,
   "metadata": {},
   "outputs": [],
   "source": [
    "data['MSSubClass'][data['MSSubClass'] == 20] = '1-STORY 1946 & NEWER ALL STYLES'\n",
    "data['MSSubClass'][data['MSSubClass'] == 30] = '1-STORY 1945 & OLDER'\n",
    "data['MSSubClass'][data['MSSubClass'] == 40] = '1-STORY W/FINISHED ATTIC ALL AGES'\n",
    "data['MSSubClass'][data['MSSubClass'] == 45] = '1-1/2 STORY - UNFINISHED ALL AGES'\n",
    "data['MSSubClass'][data['MSSubClass'] == 50] = '1-1/2 STORY FINISHED ALL AGES'\n",
    "data['MSSubClass'][data['MSSubClass'] == 60] = '2-STORY 1946 & NEWER'\n",
    "data['MSSubClass'][data['MSSubClass'] == 70] = '2-STORY 1945 & OLDER'\n",
    "data['MSSubClass'][data['MSSubClass'] == 75] = '2-1/2 STORY ALL AGES'\n",
    "data['MSSubClass'][data['MSSubClass'] == 80] = 'SPLIT OR MULTI-LEVEL'\n",
    "data['MSSubClass'][data['MSSubClass'] == 85] = 'SPLIT FOYER'\n",
    "data['MSSubClass'][data['MSSubClass'] == 90] = 'DUPLEX - ALL STYLES AND AGES'\n",
    "data['MSSubClass'][data['MSSubClass'] == 120] = '1-STORY PUD (Planned Unit Development) - 1946 & NEWER'\n",
    "data['MSSubClass'][data['MSSubClass'] == 150] = '1-1/2 STORY PUD - ALL AGES'\n",
    "data['MSSubClass'][data['MSSubClass'] == 160] = '2-STORY PUD - 1946 & NEWER'\n",
    "data['MSSubClass'][data['MSSubClass'] == 180] = 'PUD - MULTILEVEL - INCL SPLIT LEV/FOYER'\n",
    "data['MSSubClass'][data['MSSubClass'] == 190] = '2 FAMILY CONVERSION - ALL STYLES AND AGES'"
   ]
  },
  {
   "cell_type": "markdown",
   "metadata": {},
   "source": [
    "A few categorical variables are ordinal variables, so let's fix them."
   ]
  },
  {
   "cell_type": "code",
   "execution_count": 17,
   "metadata": {},
   "outputs": [],
   "source": [
    "def fixing_ordinal_variables(data, variable):\n",
    "    data[variable][data[variable] == 'Ex'] = 5\n",
    "    data[variable][data[variable] == 'Gd'] = 4\n",
    "    data[variable][data[variable] == 'TA'] = 3\n",
    "    data[variable][data[variable] == 'Fa'] = 2\n",
    "    data[variable][data[variable] == 'Po'] = 1\n",
    "    data[variable][data[variable] == 'None'] = 0"
   ]
  },
  {
   "cell_type": "code",
   "execution_count": 18,
   "metadata": {},
   "outputs": [],
   "source": [
    "fixing_ordinal_variables(data,'ExterQual')\n",
    "fixing_ordinal_variables(data,'ExterCond')\n",
    "fixing_ordinal_variables(data,'BsmtCond')\n",
    "fixing_ordinal_variables(data,'BsmtQual')\n",
    "fixing_ordinal_variables(data,'HeatingQC')\n",
    "fixing_ordinal_variables(data,'KitchenQual')\n",
    "fixing_ordinal_variables(data,'FireplaceQu')\n",
    "fixing_ordinal_variables(data,'GarageQual')\n",
    "fixing_ordinal_variables(data,'GarageCond')\n",
    "fixing_ordinal_variables(data,'PoolQC')"
   ]
  },
  {
   "cell_type": "code",
   "execution_count": 19,
   "metadata": {},
   "outputs": [],
   "source": [
    "data['PavedDrive'][data['PavedDrive'] == 'Y'] = 3\n",
    "data['PavedDrive'][data['PavedDrive'] == 'P'] = 2\n",
    "data['PavedDrive'][data['PavedDrive'] == 'N'] = 1"
   ]
  },
  {
   "cell_type": "markdown",
   "metadata": {},
   "source": [
    "Counting missing values less than 50"
   ]
  },
  {
   "cell_type": "code",
   "execution_count": 22,
   "metadata": {},
   "outputs": [
    {
     "name": "stdout",
     "output_type": "stream",
     "text": [
      "BsmtFinSF1       1\n",
      "BsmtFinSF2       1\n",
      "BsmtFullBath     2\n",
      "BsmtHalfBath     2\n",
      "BsmtUnfSF        1\n",
      "Electrical       1\n",
      "Exterior1st      1\n",
      "Exterior2nd      1\n",
      "Functional       2\n",
      "GarageArea       1\n",
      "GarageCars       1\n",
      "KitchenQual      1\n",
      "MSZoning         4\n",
      "MasVnrArea      23\n",
      "MasVnrType      24\n",
      "SaleType         1\n",
      "TotalBsmtSF      1\n",
      "Utilities        2\n",
      "dtype: int64\n"
     ]
    }
   ],
   "source": [
    "colu = data.columns[(data.isnull().sum()<50) & (data.isnull().sum()>0)]\n",
    "#for i in colu:\n",
    "print(data[colu].isnull().sum())"
   ]
  },
  {
   "cell_type": "markdown",
   "metadata": {},
   "source": [
    "Counting missing values greater than 50"
   ]
  },
  {
   "cell_type": "code",
   "execution_count": 37,
   "metadata": {},
   "outputs": [
    {
     "name": "stdout",
     "output_type": "stream",
     "text": [
      "Alley           2721\n",
      "BsmtExposure      82\n",
      "BsmtFinType1      79\n",
      "BsmtFinType2      80\n",
      "Fence           2348\n",
      "LotFrontage      486\n",
      "SalePrice       1459\n",
      "dtype: int64\n"
     ]
    }
   ],
   "source": [
    "colu = data.columns[data.isnull().sum()>=50]\n",
    "#for i in colu:\n",
    "print(data[colu].isnull().sum())"
   ]
  },
  {
   "cell_type": "code",
   "execution_count": 38,
   "metadata": {},
   "outputs": [],
   "source": [
    "filling_missing_values(data, 'GarageArea',0)\n",
    "filling_missing_values(data, 'GarageCars',0)\n",
    "data['GarageFinish'][(data.GarageFinish.isnull()==True) & (data.GarageCond==0)] =0\n",
    "data['GarageType'][(data.GarageType.isnull()==True) & (data.GarageCond==0)] =0\n",
    "data['GarageYrBlt'][(data.GarageYrBlt.isnull()==True) & (data.GarageCond==0)] =0"
   ]
  },
  {
   "cell_type": "markdown",
   "metadata": {},
   "source": [
    "I'm gonna put 0 in MiscVal for house which don't have any MiscFeature and 'None' value for house with 0 in MiscValue and some value in MiscFeature."
   ]
  },
  {
   "cell_type": "code",
   "execution_count": 39,
   "metadata": {},
   "outputs": [
    {
     "name": "stdout",
     "output_type": "stream",
     "text": [
      "Empty DataFrame\n",
      "Columns: [MiscFeature, MiscVal]\n",
      "Index: []\n",
      "Empty DataFrame\n",
      "Columns: [MiscFeature, MiscVal]\n",
      "Index: []\n"
     ]
    }
   ],
   "source": [
    "print(data[['MiscFeature','MiscVal']][(data.MiscFeature=='None') & (data.MiscVal>0)])\n",
    "data.MiscVal.loc[2550] = 0\n",
    "\n",
    "print(data[['MiscFeature','MiscVal']][(data.MiscVal==0) & (data.MiscFeature!='None')])\n",
    "c=data[['MiscFeature','MiscVal']][(data.MiscVal==0) & (data.MiscFeature!='None')].index\n",
    "data.MiscFeature.loc[c] = 'None'"
   ]
  },
  {
   "cell_type": "markdown",
   "metadata": {},
   "source": [
    "Output of above code.\n",
    "MiscFeature  MiscVal\n",
    "Id                       \n",
    "2550        None    17000\n",
    "     MiscFeature  MiscVal\n",
    "Id                       \n",
    "874         Othr        0\n",
    "1201        Shed        0\n",
    "2432        Shed        0"
   ]
  },
  {
   "cell_type": "code",
   "execution_count": 63,
   "metadata": {},
   "outputs": [],
   "source": [
    "def inputing(variab):\n",
    "    y = data[variab]\n",
    "    #only one varaiable in y\n",
    "    data2 = data.drop([variab],axis=1)\n",
    "    #all othger variables except y\n",
    "    col = data2.columns[data2.isnull().sum()==0]\n",
    "    # col has all variables names\n",
    "    data2 = data2[col]\n",
    "    # data2 now has all values of variables with no missing values\n",
    "    data2 = pd.get_dummies(data2)\n",
    "    # data2 now has encoded values\n",
    "    c_train = y[y.notnull()==True].index\n",
    "    print(c_train)\n",
    "    # c_train has all the indexes of variable y with no missing values\n",
    "    y_train = y[c_train]\n",
    "    # y_train has all the values of c_train\n",
    "    columny = data2.columns\n",
    "    \n",
    "    X_train = data2[columny].loc[c_train]\n",
    "    c_test = y[y.notnull()!=True].index\n",
    "    y_test = y[c_test]\n",
    "    X_test = data2[columny].loc[c_test]\n",
    "    #Model\n",
    "    model = RandomForestClassifier()\n",
    "    model.fit(X_train, y_train)\n",
    "    y_pred = model.predict(X_test)\n",
    "    #Filling missing data\n",
    "    y_pred = pd.Series(y_pred, index=c_test)\n",
    "    data[variab].loc[c_test] = y_pred.loc[c_test]\n",
    "\n"
   ]
  },
  {
   "cell_type": "code",
   "execution_count": 114,
   "metadata": {},
   "outputs": [],
   "source": [
    "def inputing(variab):\n",
    "    y = data[variab]\n",
    "    #only one varaiable in y\n",
    "    data2 = data.drop([variab],axis=1)\n",
    "    #all othger variables except y\n",
    "    col = data2.columns[data2.isnull().sum()==0]\n",
    "    # col has all variables names\n",
    "    data2 = data2[col]\n",
    "    # data2 now has all values of variables with no missing values\n",
    "    data2 = pd.get_dummies(data2)\n",
    "    # data2 now has encoded values\n",
    "    #print(data2)\n",
    "    c_train = y[y.notnull()==True].index\n",
    "    #print(c_train)\n",
    "    # c_train has all the indexes of variable y with no missing values\n",
    "    y_train = y[c_train]\n",
    "    #print(y_train)\n",
    "    # y_train has all the values of c_train\n",
    "    columny = data2.columns\n",
    "    #print(columny)\n",
    "    X_train = data2[columny].loc[c_train]\n",
    "    #print(X_train)\n",
    "    c_test = y[y.notnull()!=True].index\n",
    "    print(c_test)\n",
    "    y_test = y[c_test]\n",
    "    print(y_test)\n",
    "    X_test = data2[columny].loc[c_test]"
   ]
  },
  {
   "cell_type": "code",
   "execution_count": 137,
   "metadata": {},
   "outputs": [],
   "source": [
    "def inputing(variab):\n",
    "    y = data[variab]\n",
    "    data2 = data.drop([variab],axis=1)\n",
    "    col = data2.columns[data2.isnull().sum()==0]\n",
    "    data2 = data2[col]\n",
    "    data2 = pd.get_dummies(data2)\n",
    "    c_train = y[y.notnull()==True].index\n",
    "    y_train = y[c_train]\n",
    "    columny = data2.columns\n",
    "    X_train = data2[columny].loc[c_train]\n",
    "    c_test = y[y.notnull()!=True].index\n",
    "    y_test = y[c_test]\n",
    "    X_test = data2[columny].loc[c_test]\n",
    "    #Model\n",
    "    model = RandomForestClassifier()\n",
    "    model.fit(X_train, y_train)\n",
    "    y_pred = model.predict(X_test)\n",
    "    #Filling missing data\n",
    "    y_pred = pd.Series(y_pred, index=c_test)\n",
    "    data[variab].loc[c_test] = y_pred.loc[c_test]\n",
    "    \n",
    "def inputingnum(variab):\n",
    "    y = data[variab]\n",
    "    data2 = data.drop([variab],axis=1)\n",
    "    col = data2.columns[data2.isnull().sum()==0]\n",
    "    data2 = data2[col]\n",
    "    data2 = pd.get_dummies(data2)\n",
    "    c_train = y[y.notnull()==True].index\n",
    "    y_train = y[c_train]\n",
    "    columny = data2.columns\n",
    "    X_train = data2[columny].loc[c_train]\n",
    "    c_test = y[y.notnull()!=True].index\n",
    "    y_test = y[c_test]\n",
    "    X_test = data2[columny].loc[c_test]\n",
    "    #Model\n",
    "    model = RandomForestRegressor()\n",
    "    model.fit(X_train, y_train)\n",
    "    y_pred = model.predict(X_test)\n",
    "    #Filling missing data\n",
    "    y_pred = pd.Series(y_pred, index=c_test)\n",
    "    data[variab].loc[c_test] = y_pred.loc[c_test]"
   ]
  },
  {
   "cell_type": "code",
   "execution_count": 138,
   "metadata": {},
   "outputs": [],
   "source": [
    "inputing(variab='Electrical')\n",
    "inputing(variab='Exterior2nd')\n",
    "inputing(variab='Exterior1st')\n",
    "inputing(variab='MasVnrType')\n",
    "inputing(variab='Functional')\n",
    "inputing(variab='MSZoning')\n",
    "inputing(variab='SaleType')\n",
    "inputing(variab='Alley')\n",
    "inputing(variab='BsmtExposure')\n",
    "inputing(variab='BsmtFinType1')\n",
    "inputing(variab='BsmtFinType2')\n",
    "inputing(variab='Fence')\n",
    "\n",
    "inputingnum(variab='KitchenQual')\n",
    "data['KitchenQual'] = data.KitchenQual.astype(int)\n",
    "inputingnum(variab='BsmtFullBath')\n",
    "data['BsmtFullBath'] = data.BsmtFullBath.astype(int)\n",
    "inputingnum(variab='BsmtHalfBath')\n",
    "data['BsmtHalfBath'] = data.BsmtHalfBath.astype(int)\n",
    "\n",
    "inputingnum(variab='TotalBsmtSF')\n",
    "inputingnum(variab='BsmtFinSF1')\n",
    "inputingnum(variab='BsmtFinSF2')\n",
    "inputingnum(variab='MasVnrArea')\n",
    "inputingnum(variab='BsmtUnfSF')\n",
    "inputingnum(variab='LotFrontage')"
   ]
  },
  {
   "cell_type": "code",
   "execution_count": 139,
   "metadata": {},
   "outputs": [
    {
     "name": "stdout",
     "output_type": "stream",
     "text": [
      "AllPub    2916\n",
      "NoSeWa       1\n",
      "Name: Utilities, dtype: int64\n"
     ]
    }
   ],
   "source": [
    "print(data['Utilities'].value_counts())\n",
    "data  = data.drop(['Utilities'],axis=1)"
   ]
  },
  {
   "cell_type": "code",
   "execution_count": 140,
   "metadata": {},
   "outputs": [
    {
     "data": {
      "text/plain": [
       "Index(['SalePrice'], dtype='object')"
      ]
     },
     "execution_count": 140,
     "metadata": {},
     "output_type": "execute_result"
    }
   ],
   "source": [
    "data.columns[data.isnull().sum()>0]"
   ]
  },
  {
   "cell_type": "code",
   "execution_count": 141,
   "metadata": {},
   "outputs": [
    {
     "data": {
      "text/plain": [
       "1stFlrSF            0\n",
       "2ndFlrSF            0\n",
       "3SsnPorch           0\n",
       "Alley               0\n",
       "BedroomAbvGr        0\n",
       "BldgType            0\n",
       "BsmtCond            0\n",
       "BsmtExposure        0\n",
       "BsmtFinSF1          0\n",
       "BsmtFinSF2          0\n",
       "BsmtFinType1        0\n",
       "BsmtFinType2        0\n",
       "BsmtFullBath        0\n",
       "BsmtHalfBath        0\n",
       "BsmtQual            0\n",
       "BsmtUnfSF           0\n",
       "CentralAir          0\n",
       "Condition1          0\n",
       "Condition2          0\n",
       "Electrical          0\n",
       "EnclosedPorch       0\n",
       "ExterCond           0\n",
       "ExterQual           0\n",
       "Exterior1st         0\n",
       "Exterior2nd         0\n",
       "Fence               0\n",
       "FireplaceQu         0\n",
       "Fireplaces          0\n",
       "Foundation          0\n",
       "FullBath            0\n",
       "                 ... \n",
       "LotShape            0\n",
       "LowQualFinSF        0\n",
       "MSSubClass          0\n",
       "MSZoning            0\n",
       "MasVnrArea          0\n",
       "MasVnrType          0\n",
       "MiscFeature         0\n",
       "MiscVal             0\n",
       "MoSold              0\n",
       "Neighborhood        0\n",
       "OpenPorchSF         0\n",
       "OverallCond         0\n",
       "OverallQual         0\n",
       "PavedDrive          0\n",
       "PoolArea            0\n",
       "PoolQC              0\n",
       "RoofMatl            0\n",
       "RoofStyle           0\n",
       "SaleCondition       0\n",
       "SalePrice        1459\n",
       "SaleType            0\n",
       "ScreenPorch         0\n",
       "Street              0\n",
       "TotRmsAbvGrd        0\n",
       "TotalBsmtSF         0\n",
       "WoodDeckSF          0\n",
       "YearBuilt           0\n",
       "YearRemodAdd        0\n",
       "YrSold              0\n",
       "train               0\n",
       "Length: 80, dtype: int64"
      ]
     },
     "execution_count": 141,
     "metadata": {},
     "output_type": "execute_result"
    }
   ],
   "source": [
    "data.isnull().sum()"
   ]
  },
  {
   "cell_type": "code",
   "execution_count": 68,
   "metadata": {},
   "outputs": [
    {
     "data": {
      "text/html": [
       "<div>\n",
       "<style scoped>\n",
       "    .dataframe tbody tr th:only-of-type {\n",
       "        vertical-align: middle;\n",
       "    }\n",
       "\n",
       "    .dataframe tbody tr th {\n",
       "        vertical-align: top;\n",
       "    }\n",
       "\n",
       "    .dataframe thead th {\n",
       "        text-align: right;\n",
       "    }\n",
       "</style>\n",
       "<table border=\"1\" class=\"dataframe\">\n",
       "  <thead>\n",
       "    <tr style=\"text-align: right;\">\n",
       "      <th></th>\n",
       "      <th></th>\n",
       "      <th>max_speed</th>\n",
       "      <th>shield</th>\n",
       "    </tr>\n",
       "  </thead>\n",
       "  <tbody>\n",
       "    <tr>\n",
       "      <th rowspan=\"2\" valign=\"top\">cobra</th>\n",
       "      <th>mark i</th>\n",
       "      <td>12</td>\n",
       "      <td>2</td>\n",
       "    </tr>\n",
       "    <tr>\n",
       "      <th>mark ii</th>\n",
       "      <td>0</td>\n",
       "      <td>4</td>\n",
       "    </tr>\n",
       "    <tr>\n",
       "      <th rowspan=\"2\" valign=\"top\">sidewinder</th>\n",
       "      <th>mark i</th>\n",
       "      <td>10</td>\n",
       "      <td>20</td>\n",
       "    </tr>\n",
       "    <tr>\n",
       "      <th>mark ii</th>\n",
       "      <td>1</td>\n",
       "      <td>4</td>\n",
       "    </tr>\n",
       "    <tr>\n",
       "      <th rowspan=\"2\" valign=\"top\">viper</th>\n",
       "      <th>mark ii</th>\n",
       "      <td>7</td>\n",
       "      <td>1</td>\n",
       "    </tr>\n",
       "    <tr>\n",
       "      <th>mark iii</th>\n",
       "      <td>16</td>\n",
       "      <td>36</td>\n",
       "    </tr>\n",
       "  </tbody>\n",
       "</table>\n",
       "</div>"
      ],
      "text/plain": [
       "                     max_speed  shield\n",
       "cobra      mark i           12       2\n",
       "           mark ii           0       4\n",
       "sidewinder mark i           10      20\n",
       "           mark ii           1       4\n",
       "viper      mark ii           7       1\n",
       "           mark iii         16      36"
      ]
     },
     "execution_count": 68,
     "metadata": {},
     "output_type": "execute_result"
    }
   ],
   "source": [
    "tuples = [\n",
    "    ('cobra', 'mark i'), ('cobra', 'mark ii'),\n",
    "    ('sidewinder', 'mark i'), ('sidewinder', 'mark ii'),\n",
    "    ('viper', 'mark ii'), ('viper', 'mark iii')\n",
    "]\n",
    "index = pd.MultiIndex.from_tuples(tuples)\n",
    "values = [[12, 2], [0, 4], [10, 20],\n",
    "         [1, 4], [7, 1], [16, 36]]\n",
    "df = pd.DataFrame(values, columns=['max_speed', 'shield'], index=index)\n",
    "df"
   ]
  },
  {
   "cell_type": "code",
   "execution_count": null,
   "metadata": {},
   "outputs": [],
   "source": []
  },
  {
   "cell_type": "code",
   "execution_count": null,
   "metadata": {},
   "outputs": [],
   "source": []
  },
  {
   "cell_type": "code",
   "execution_count": 126,
   "metadata": {},
   "outputs": [
    {
     "data": {
      "text/plain": [
       "1stFlrSF           int64\n",
       "2ndFlrSF           int64\n",
       "3SsnPorch          int64\n",
       "Alley             object\n",
       "BedroomAbvGr       int64\n",
       "BldgType          object\n",
       "BsmtCond          object\n",
       "BsmtExposure      object\n",
       "BsmtFinSF1       float64\n",
       "BsmtFinSF2       float64\n",
       "BsmtFinType1      object\n",
       "BsmtFinType2      object\n",
       "BsmtFullBath     float64\n",
       "BsmtHalfBath     float64\n",
       "BsmtQual          object\n",
       "BsmtUnfSF        float64\n",
       "CentralAir        object\n",
       "Condition1        object\n",
       "Condition2        object\n",
       "Electrical        object\n",
       "EnclosedPorch      int64\n",
       "ExterCond         object\n",
       "ExterQual         object\n",
       "Exterior1st       object\n",
       "Exterior2nd       object\n",
       "Fence             object\n",
       "FireplaceQu       object\n",
       "Fireplaces         int64\n",
       "Foundation        object\n",
       "FullBath           int64\n",
       "                  ...   \n",
       "LowQualFinSF       int64\n",
       "MSSubClass        object\n",
       "MSZoning          object\n",
       "MasVnrArea       float64\n",
       "MasVnrType        object\n",
       "MiscFeature       object\n",
       "MiscVal            int64\n",
       "MoSold             int64\n",
       "Neighborhood      object\n",
       "OpenPorchSF        int64\n",
       "OverallCond        int64\n",
       "OverallQual        int64\n",
       "PavedDrive        object\n",
       "PoolArea           int64\n",
       "PoolQC            object\n",
       "RoofMatl          object\n",
       "RoofStyle         object\n",
       "SaleCondition     object\n",
       "SalePrice        float64\n",
       "SaleType          object\n",
       "ScreenPorch        int64\n",
       "Street            object\n",
       "TotRmsAbvGrd       int64\n",
       "TotalBsmtSF      float64\n",
       "Utilities         object\n",
       "WoodDeckSF         int64\n",
       "YearBuilt          int64\n",
       "YearRemodAdd       int64\n",
       "YrSold             int64\n",
       "train              int64\n",
       "Length: 81, dtype: object"
      ]
     },
     "execution_count": 126,
     "metadata": {},
     "output_type": "execute_result"
    }
   ],
   "source": [
    "data.dtypes"
   ]
  },
  {
   "cell_type": "code",
   "execution_count": 166,
   "metadata": {},
   "outputs": [],
   "source": [
    "data3=data['2ndFlrSF']"
   ]
  },
  {
   "cell_type": "code",
   "execution_count": 167,
   "metadata": {},
   "outputs": [
    {
     "data": {
      "text/plain": [
       "dtype('int64')"
      ]
     },
     "execution_count": 167,
     "metadata": {},
     "output_type": "execute_result"
    }
   ],
   "source": [
    "data3.dtypes\n"
   ]
  },
  {
   "cell_type": "code",
   "execution_count": 168,
   "metadata": {},
   "outputs": [
    {
     "data": {
      "text/plain": [
       "<bound method NDFrame.head of Id\n",
       "1        854\n",
       "2          0\n",
       "3        866\n",
       "4        756\n",
       "5       1053\n",
       "6        566\n",
       "7          0\n",
       "8        983\n",
       "9        752\n",
       "10         0\n",
       "11         0\n",
       "12      1142\n",
       "13         0\n",
       "14         0\n",
       "15         0\n",
       "16         0\n",
       "17         0\n",
       "18         0\n",
       "19         0\n",
       "20         0\n",
       "21      1218\n",
       "22         0\n",
       "23         0\n",
       "24         0\n",
       "25         0\n",
       "26         0\n",
       "27         0\n",
       "28         0\n",
       "29         0\n",
       "30         0\n",
       "        ... \n",
       "2890       0\n",
       "2891     671\n",
       "2892       0\n",
       "2893     336\n",
       "2894     360\n",
       "2895       0\n",
       "2896       0\n",
       "2897       0\n",
       "2898       0\n",
       "2899       0\n",
       "2900       0\n",
       "2901       0\n",
       "2902       0\n",
       "2903       0\n",
       "2904       0\n",
       "2905       0\n",
       "2906       0\n",
       "2907     688\n",
       "2908       0\n",
       "2909       0\n",
       "2910       0\n",
       "2911     546\n",
       "2912       0\n",
       "2913     546\n",
       "2914     546\n",
       "2915     546\n",
       "2916     546\n",
       "2917       0\n",
       "2918       0\n",
       "2919    1004\n",
       "Name: 2ndFlrSF, Length: 2919, dtype: int64>"
      ]
     },
     "execution_count": 168,
     "metadata": {},
     "output_type": "execute_result"
    }
   ],
   "source": [
    "data3.head"
   ]
  },
  {
   "cell_type": "code",
   "execution_count": 131,
   "metadata": {},
   "outputs": [
    {
     "data": {
      "text/plain": [
       "2"
      ]
     },
     "execution_count": 131,
     "metadata": {},
     "output_type": "execute_result"
    }
   ],
   "source": [
    "data3.nunique()"
   ]
  },
  {
   "cell_type": "code",
   "execution_count": null,
   "metadata": {},
   "outputs": [],
   "source": [
    "data.columns[data.isnull().sum()>0]"
   ]
  },
  {
   "cell_type": "code",
   "execution_count": 135,
   "metadata": {},
   "outputs": [
    {
     "data": {
      "text/plain": [
       "1stFlrSF            0\n",
       "2ndFlrSF            0\n",
       "3SsnPorch           0\n",
       "Alley            2721\n",
       "BedroomAbvGr        0\n",
       "BldgType            0\n",
       "BsmtCond            0\n",
       "BsmtExposure       82\n",
       "BsmtFinSF1          1\n",
       "BsmtFinSF2          1\n",
       "BsmtFinType1       79\n",
       "BsmtFinType2       80\n",
       "BsmtFullBath        2\n",
       "BsmtHalfBath        2\n",
       "BsmtQual            0\n",
       "BsmtUnfSF           1\n",
       "CentralAir          0\n",
       "Condition1          0\n",
       "Condition2          0\n",
       "Electrical          1\n",
       "EnclosedPorch       0\n",
       "ExterCond           0\n",
       "ExterQual           0\n",
       "Exterior1st         1\n",
       "Exterior2nd         1\n",
       "Fence            2348\n",
       "FireplaceQu         0\n",
       "Fireplaces          0\n",
       "Foundation          0\n",
       "FullBath            0\n",
       "                 ... \n",
       "LowQualFinSF        0\n",
       "MSSubClass          0\n",
       "MSZoning            4\n",
       "MasVnrArea         23\n",
       "MasVnrType         24\n",
       "MiscFeature         0\n",
       "MiscVal             0\n",
       "MoSold              0\n",
       "Neighborhood        0\n",
       "OpenPorchSF         0\n",
       "OverallCond         0\n",
       "OverallQual         0\n",
       "PavedDrive          0\n",
       "PoolArea            0\n",
       "PoolQC              0\n",
       "RoofMatl            0\n",
       "RoofStyle           0\n",
       "SaleCondition       0\n",
       "SalePrice        1459\n",
       "SaleType            1\n",
       "ScreenPorch         0\n",
       "Street              0\n",
       "TotRmsAbvGrd        0\n",
       "TotalBsmtSF         1\n",
       "Utilities           2\n",
       "WoodDeckSF          0\n",
       "YearBuilt           0\n",
       "YearRemodAdd        0\n",
       "YrSold              0\n",
       "train               0\n",
       "Length: 81, dtype: int64"
      ]
     },
     "execution_count": 135,
     "metadata": {},
     "output_type": "execute_result"
    }
   ],
   "source": [
    "data.isnull().sum()"
   ]
  },
  {
   "cell_type": "markdown",
   "metadata": {},
   "source": [
    "# Outlier elimination"
   ]
  },
  {
   "cell_type": "code",
   "execution_count": 142,
   "metadata": {},
   "outputs": [
    {
     "name": "stdout",
     "output_type": "stream",
     "text": [
      "AxesSubplot(0.125,0.125;0.775x0.755)\n"
     ]
    },
    {
     "data": {
      "image/png": "[encoded data removed]",
      "text/plain": [
       "<Figure size 432x288 with 1 Axes>"
      ]
     },
     "metadata": {
      "needs_background": "light"
     },
     "output_type": "display_data"
    }
   ],
   "source": [
    "print(data.plot.scatter(x='LotFrontage',y='SalePrice'))"
   ]
  },
  {
   "cell_type": "code",
   "execution_count": 143,
   "metadata": {},
   "outputs": [
    {
     "name": "stdout",
     "output_type": "stream",
     "text": [
      "AxesSubplot(0.125,0.125;0.775x0.755)\n"
     ]
    },
    {
     "data": {
      "image/png": "[encoded data removed]",
      "text/plain": [
       "<Figure size 432x288 with 1 Axes>"
      ]
     },
     "metadata": {
      "needs_background": "light"
     },
     "output_type": "display_data"
    }
   ],
   "source": [
    "print(data.plot.scatter(x='LotArea',y='SalePrice'))"
   ]
  },
  {
   "cell_type": "code",
   "execution_count": 144,
   "metadata": {},
   "outputs": [
    {
     "name": "stdout",
     "output_type": "stream",
     "text": [
      "AxesSubplot(0.125,0.125;0.775x0.755)\n"
     ]
    },
    {
     "data": {
      "image/png": "[encoded data removed]",
      "text/plain": [
       "<Figure size 432x288 with 1 Axes>"
      ]
     },
     "metadata": {
      "needs_background": "light"
     },
     "output_type": "display_data"
    }
   ],
   "source": [
    "print(data.plot.scatter(x='MasVnrArea',y='SalePrice'))"
   ]
  },
  {
   "cell_type": "code",
   "execution_count": 145,
   "metadata": {},
   "outputs": [
    {
     "name": "stdout",
     "output_type": "stream",
     "text": [
      "AxesSubplot(0.125,0.125;0.775x0.755)\n"
     ]
    },
    {
     "data": {
      "image/png": "[encoded data removed]",
      "text/plain": [
       "<Figure size 432x288 with 1 Axes>"
      ]
     },
     "metadata": {
      "needs_background": "light"
     },
     "output_type": "display_data"
    }
   ],
   "source": [
    "print(data.plot.scatter(x='BedroomAbvGr',y='SalePrice'))"
   ]
  },
  {
   "cell_type": "code",
   "execution_count": 164,
   "metadata": {},
   "outputs": [],
   "source": [
    "def dropping_outliers(data, condition):\n",
    "    #put condition with with reference to the data table, use brackets and (& |) operators, remember about you can drop observation only from train dataset\n",
    "    condition_to_drop = data[condition].index\n",
    "    data = data.drop(condition_to_drop)\n",
    "    data4=data['LotFrontage']\n",
    "    print(data4)"
   ]
  },
  {
   "cell_type": "code",
   "execution_count": 158,
   "metadata": {},
   "outputs": [
    {
     "name": "stdout",
     "output_type": "stream",
     "text": [
      "AxesSubplot(0.125,0.125;0.775x0.755)\n"
     ]
    },
    {
     "data": {
      "image/png": "[encoded data removed]",
      "text/plain": [
       "<Figure size 432x288 with 1 Axes>"
      ]
     },
     "metadata": {
      "needs_background": "light"
     },
     "output_type": "display_data"
    }
   ],
   "source": [
    "print(data.plot.scatter(x='LotFrontage',y='SalePrice'))"
   ]
  },
  {
   "cell_type": "code",
   "execution_count": 165,
   "metadata": {},
   "outputs": [
    {
     "name": "stdout",
     "output_type": "stream",
     "text": [
      "Id\n",
      "1        65.0\n",
      "2        80.0\n",
      "3        68.0\n",
      "4        60.0\n",
      "5        84.0\n",
      "6        85.0\n",
      "7        75.0\n",
      "8        90.1\n",
      "9        51.0\n",
      "10       50.0\n",
      "11       70.0\n",
      "12       85.0\n",
      "13       79.5\n",
      "14       91.0\n",
      "15       96.8\n",
      "16       51.0\n",
      "17       50.9\n",
      "18       72.0\n",
      "19       66.0\n",
      "20       70.0\n",
      "21      101.0\n",
      "22       57.0\n",
      "23       75.0\n",
      "24       44.0\n",
      "25       67.4\n",
      "26      110.0\n",
      "27       60.0\n",
      "28       98.0\n",
      "29       47.0\n",
      "30       60.0\n",
      "        ...  \n",
      "2890     50.0\n",
      "2891     75.0\n",
      "2892     69.0\n",
      "2893     50.0\n",
      "2894     60.0\n",
      "2895     41.0\n",
      "2896     44.0\n",
      "2897     69.0\n",
      "2898     65.0\n",
      "2899     70.0\n",
      "2900    140.0\n",
      "2901    118.0\n",
      "2902     63.2\n",
      "2903     95.0\n",
      "2904     88.0\n",
      "2905    125.0\n",
      "2906     78.0\n",
      "2907     41.0\n",
      "2908     58.0\n",
      "2909     98.6\n",
      "2910     21.0\n",
      "2911     21.0\n",
      "2912     80.0\n",
      "2913     21.0\n",
      "2914     21.0\n",
      "2915     21.0\n",
      "2916     21.0\n",
      "2917    160.0\n",
      "2918     62.0\n",
      "2919     74.0\n",
      "Name: LotFrontage, Length: 2918, dtype: float64\n"
     ]
    }
   ],
   "source": [
    "dropping_outliers(data, (data.SalePrice<100000) & (data.train==1) & (data.LotFrontage>150))"
   ]
  },
  {
   "cell_type": "code",
   "execution_count": 156,
   "metadata": {},
   "outputs": [
    {
     "name": "stdout",
     "output_type": "stream",
     "text": [
      "AxesSubplot(0.125,0.125;0.775x0.755)\n"
     ]
    },
    {
     "data": {
      "image/png": "[encoded data removed]",
      "text/plain": [
       "<Figure size 432x288 with 1 Axes>"
      ]
     },
     "metadata": {
      "needs_background": "light"
     },
     "output_type": "display_data"
    }
   ],
   "source": [
    "print(data.plot.scatter(x='LotFrontage',y='SalePrice'))"
   ]
  },
  {
   "cell_type": "code",
   "execution_count": 163,
   "metadata": {},
   "outputs": [
    {
     "name": "stdout",
     "output_type": "stream",
     "text": [
      "Id\n",
      "1        65.0\n",
      "2        80.0\n",
      "3        68.0\n",
      "4        60.0\n",
      "5        84.0\n",
      "6        85.0\n",
      "7        75.0\n",
      "8        90.1\n",
      "9        51.0\n",
      "10       50.0\n",
      "11       70.0\n",
      "12       85.0\n",
      "13       79.5\n",
      "14       91.0\n",
      "15       96.8\n",
      "16       51.0\n",
      "17       50.9\n",
      "18       72.0\n",
      "19       66.0\n",
      "20       70.0\n",
      "22       57.0\n",
      "23       75.0\n",
      "24       44.0\n",
      "25       67.4\n",
      "27       60.0\n",
      "28       98.0\n",
      "29       47.0\n",
      "30       60.0\n",
      "31       50.0\n",
      "32       64.0\n",
      "        ...  \n",
      "2890     50.0\n",
      "2891     75.0\n",
      "2892     69.0\n",
      "2893     50.0\n",
      "2894     60.0\n",
      "2895     41.0\n",
      "2896     44.0\n",
      "2897     69.0\n",
      "2898     65.0\n",
      "2899     70.0\n",
      "2900    140.0\n",
      "2901    118.0\n",
      "2902     63.2\n",
      "2903     95.0\n",
      "2904     88.0\n",
      "2905    125.0\n",
      "2906     78.0\n",
      "2907     41.0\n",
      "2908     58.0\n",
      "2909     98.6\n",
      "2910     21.0\n",
      "2911     21.0\n",
      "2912     80.0\n",
      "2913     21.0\n",
      "2914     21.0\n",
      "2915     21.0\n",
      "2916     21.0\n",
      "2917    160.0\n",
      "2918     62.0\n",
      "2919     74.0\n",
      "Name: LotFrontage, Length: 2807, dtype: float64\n"
     ]
    }
   ],
   "source": [
    "dropping_outliers(data, (data.LotFrontage>100) & (data.train==1))"
   ]
  },
  {
   "cell_type": "code",
   "execution_count": 173,
   "metadata": {},
   "outputs": [],
   "source": [
    "data['2ndFloor'] = pd.Series(np.where(data['2ndFlrSF'].values == 0, 0, 1),data.index)"
   ]
  },
  {
   "cell_type": "code",
   "execution_count": 170,
   "metadata": {},
   "outputs": [
    {
     "name": "stdout",
     "output_type": "stream",
     "text": [
      "Id\n",
      "1       1\n",
      "2       0\n",
      "3       1\n",
      "4       1\n",
      "5       1\n",
      "6       1\n",
      "7       0\n",
      "8       1\n",
      "9       1\n",
      "10      0\n",
      "11      0\n",
      "12      1\n",
      "13      0\n",
      "14      0\n",
      "15      0\n",
      "16      0\n",
      "17      0\n",
      "18      0\n",
      "19      0\n",
      "20      0\n",
      "21      1\n",
      "22      0\n",
      "23      0\n",
      "24      0\n",
      "25      0\n",
      "26      0\n",
      "27      0\n",
      "28      0\n",
      "29      0\n",
      "30      0\n",
      "       ..\n",
      "2890    0\n",
      "2891    1\n",
      "2892    0\n",
      "2893    1\n",
      "2894    1\n",
      "2895    0\n",
      "2896    0\n",
      "2897    0\n",
      "2898    0\n",
      "2899    0\n",
      "2900    0\n",
      "2901    0\n",
      "2902    0\n",
      "2903    0\n",
      "2904    0\n",
      "2905    0\n",
      "2906    0\n",
      "2907    1\n",
      "2908    0\n",
      "2909    0\n",
      "2910    0\n",
      "2911    1\n",
      "2912    0\n",
      "2913    1\n",
      "2914    1\n",
      "2915    1\n",
      "2916    1\n",
      "2917    0\n",
      "2918    0\n",
      "2919    1\n",
      "Name: 2ndFloor, Length: 2919, dtype: int64\n"
     ]
    }
   ],
   "source": [
    "print(data['2ndFloor'])"
   ]
  },
  {
   "cell_type": "code",
   "execution_count": 171,
   "metadata": {},
   "outputs": [
    {
     "data": {
      "text/plain": [
       "<bound method NDFrame.head of Id\n",
       "1        854\n",
       "2          0\n",
       "3        866\n",
       "4        756\n",
       "5       1053\n",
       "6        566\n",
       "7          0\n",
       "8        983\n",
       "9        752\n",
       "10         0\n",
       "11         0\n",
       "12      1142\n",
       "13         0\n",
       "14         0\n",
       "15         0\n",
       "16         0\n",
       "17         0\n",
       "18         0\n",
       "19         0\n",
       "20         0\n",
       "21      1218\n",
       "22         0\n",
       "23         0\n",
       "24         0\n",
       "25         0\n",
       "26         0\n",
       "27         0\n",
       "28         0\n",
       "29         0\n",
       "30         0\n",
       "        ... \n",
       "2890       0\n",
       "2891     671\n",
       "2892       0\n",
       "2893     336\n",
       "2894     360\n",
       "2895       0\n",
       "2896       0\n",
       "2897       0\n",
       "2898       0\n",
       "2899       0\n",
       "2900       0\n",
       "2901       0\n",
       "2902       0\n",
       "2903       0\n",
       "2904       0\n",
       "2905       0\n",
       "2906       0\n",
       "2907     688\n",
       "2908       0\n",
       "2909       0\n",
       "2910       0\n",
       "2911     546\n",
       "2912       0\n",
       "2913     546\n",
       "2914     546\n",
       "2915     546\n",
       "2916     546\n",
       "2917       0\n",
       "2918       0\n",
       "2919    1004\n",
       "Name: 2ndFlrSF, Length: 2919, dtype: int64>"
      ]
     },
     "execution_count": 171,
     "metadata": {},
     "output_type": "execute_result"
    }
   ],
   "source": [
    "data3.head"
   ]
  },
  {
   "cell_type": "code",
   "execution_count": 179,
   "metadata": {},
   "outputs": [],
   "source": [
    "Results = pd.DataFrame({'Model': [],'RMSLE': []})"
   ]
  },
  {
   "cell_type": "code",
   "execution_count": 180,
   "metadata": {},
   "outputs": [],
   "source": [
    "data = pd.get_dummies(data)"
   ]
  },
  {
   "cell_type": "code",
   "execution_count": 181,
   "metadata": {},
   "outputs": [],
   "source": [
    "from sklearn.model_selection import train_test_split\n",
    "\n",
    "trainX, testX, trainY, testY = train_test_split(data[data.SalePrice.isnull()==False].drop('SalePrice',axis=1),data.SalePrice[data.SalePrice.isnull()==False],test_size=0.30, random_state=2019)\n",
    "trainY = np.log(trainY)"
   ]
  },
  {
   "cell_type": "code",
   "execution_count": 186,
   "metadata": {},
   "outputs": [
    {
     "name": "stdout",
     "output_type": "stream",
     "text": [
      "(1022, 309)\n"
     ]
    }
   ],
   "source": [
    "print(trainX.shape)"
   ]
  },
  {
   "cell_type": "code",
   "execution_count": 187,
   "metadata": {},
   "outputs": [
    {
     "name": "stdout",
     "output_type": "stream",
     "text": [
      "(2919, 310)\n"
     ]
    }
   ],
   "source": [
    "print(data.shape)"
   ]
  },
  {
   "cell_type": "code",
   "execution_count": 207,
   "metadata": {},
   "outputs": [
    {
     "name": "stdout",
     "output_type": "stream",
     "text": [
      "[18:19:43] WARNING: src/objective/regression_obj.cu:152: reg:linear is now deprecated in favor of reg:squarederror.\n"
     ]
    }
   ],
   "source": [
    "from xgboost.sklearn import XGBRegressor\n",
    "\n",
    "model = XGBRegressor(learning_rate=0.001,n_estimators=4600,\n",
    "                                max_depth=7, min_child_weight=0,\n",
    "                                gamma=0, subsample=0.7,\n",
    "                                colsample_bytree=0.7,\n",
    "                                scale_pos_weight=1, seed=27,\n",
    "                                reg_alpha=0.00006)\n",
    "model.fit(trainX,trainY)\n",
    "y_pred = model.predict(testX)\n",
    "y_pred = np.exp(y_pred)\n",
    "\n",
    "res = pd.DataFrame({\"Model\":['XGBoost'],\n",
    "                    \"RMSLE\": [rmsle(testY, y_pred)]})\n",
    "Results = Results.append(res)"
   ]
  },
  {
   "cell_type": "code",
   "execution_count": 208,
   "metadata": {},
   "outputs": [
    {
     "data": {
      "text/html": [
       "<div>\n",
       "<style scoped>\n",
       "    .dataframe tbody tr th:only-of-type {\n",
       "        vertical-align: middle;\n",
       "    }\n",
       "\n",
       "    .dataframe tbody tr th {\n",
       "        vertical-align: top;\n",
       "    }\n",
       "\n",
       "    .dataframe thead th {\n",
       "        text-align: right;\n",
       "    }\n",
       "</style>\n",
       "<table border=\"1\" class=\"dataframe\">\n",
       "  <thead>\n",
       "    <tr style=\"text-align: right;\">\n",
       "      <th></th>\n",
       "      <th>Model</th>\n",
       "      <th>RMSLE</th>\n",
       "    </tr>\n",
       "  </thead>\n",
       "  <tbody>\n",
       "    <tr>\n",
       "      <th>0</th>\n",
       "      <td>XGBoost</td>\n",
       "      <td>0.179219</td>\n",
       "    </tr>\n",
       "    <tr>\n",
       "      <th>0</th>\n",
       "      <td>XGBoost</td>\n",
       "      <td>0.179219</td>\n",
       "    </tr>\n",
       "    <tr>\n",
       "      <th>0</th>\n",
       "      <td>XGBoost</td>\n",
       "      <td>0.179219</td>\n",
       "    </tr>\n",
       "    <tr>\n",
       "      <th>0</th>\n",
       "      <td>XGBoost</td>\n",
       "      <td>0.179219</td>\n",
       "    </tr>\n",
       "    <tr>\n",
       "      <th>0</th>\n",
       "      <td>XGBoost</td>\n",
       "      <td>0.179219</td>\n",
       "    </tr>\n",
       "    <tr>\n",
       "      <th>0</th>\n",
       "      <td>XGBoost</td>\n",
       "      <td>0.179219</td>\n",
       "    </tr>\n",
       "  </tbody>\n",
       "</table>\n",
       "</div>"
      ],
      "text/plain": [
       "     Model     RMSLE\n",
       "0  XGBoost  0.179219\n",
       "0  XGBoost  0.179219\n",
       "0  XGBoost  0.179219\n",
       "0  XGBoost  0.179219\n",
       "0  XGBoost  0.179219\n",
       "0  XGBoost  0.179219"
      ]
     },
     "execution_count": 208,
     "metadata": {},
     "output_type": "execute_result"
    }
   ],
   "source": [
    "Results"
   ]
  },
  {
   "cell_type": "code",
   "execution_count": 212,
   "metadata": {},
   "outputs": [
    {
     "name": "stdout",
     "output_type": "stream",
     "text": [
      "0.21110157608927585\n"
     ]
    }
   ],
   "source": [
    "from sklearn.tree import DecisionTreeRegressor\n",
    "\n",
    "model = DecisionTreeRegressor(max_depth=6)\n",
    "model.fit(trainX,trainY)\n",
    "y_pred = model.predict(testX)\n",
    "y_pred = np.exp(y_pred)\n",
    "\n",
    "print(rmsle(testY, y_pred))\n",
    "\n",
    "res = pd.DataFrame({\"Model\":['Decision Tree'],\n",
    "                    \"RMSLE\": [rmsle(testY, y_pred)]})\n",
    "Results = Results.append(res)"
   ]
  },
  {
   "cell_type": "code",
   "execution_count": 213,
   "metadata": {},
   "outputs": [
    {
     "name": "stdout",
     "output_type": "stream",
     "text": [
      "0.16047354916780143\n"
     ]
    }
   ],
   "source": [
    "from sklearn.ensemble import RandomForestRegressor\n",
    "\n",
    "model = RandomForestRegressor(n_estimators=1500,\n",
    "                                max_depth=6)\n",
    "model.fit(trainX,trainY)\n",
    "y_pred = model.predict(testX)\n",
    "y_pred = np.exp(y_pred)\n",
    "print(rmsle(testY, y_pred))\n",
    "\n",
    "res = pd.DataFrame({\"Model\":['Random Forest'],\n",
    "                    \"RMSLE\": [rmsle(testY, y_pred)]})\n",
    "Results = Results.append(res)"
   ]
  },
  {
   "cell_type": "code",
   "execution_count": 214,
   "metadata": {},
   "outputs": [
    {
     "name": "stdout",
     "output_type": "stream",
     "text": [
      "0.12287380975713194\n"
     ]
    }
   ],
   "source": [
    "from sklearn.linear_model import Lasso\n",
    "\n",
    "model = Lasso(alpha=0.0005)\n",
    "\n",
    "model.fit(trainX,trainY)\n",
    "y_pred = model.predict(testX)\n",
    "y_pred = np.exp(y_pred)\n",
    "print(rmsle(testY, y_pred))\n",
    "\n",
    "res = pd.DataFrame({\"Model\":['LASSO'],\n",
    "                    \"RMSLE\": [rmsle(testY, y_pred)]})\n",
    "Results = Results.append(res)"
   ]
  },
  {
   "cell_type": "code",
   "execution_count": 217,
   "metadata": {},
   "outputs": [],
   "source": [
    "train_score001=model.score(trainX,trainY)\n",
    "test_score001=model.score(testX,testY)\n",
    "coeff_used001 = np.sum(model.coef_!=0)"
   ]
  },
  {
   "cell_type": "code",
   "execution_count": 218,
   "metadata": {},
   "outputs": [
    {
     "name": "stdout",
     "output_type": "stream",
     "text": [
      "training score for alpha=0.0001: 0.9379015009544311\n",
      "test score for alpha =0.0001:  -6.293208696527553\n",
      "number of features used: for alpha =0.0001: 121\n"
     ]
    }
   ],
   "source": [
    "print (\"training score for alpha=0.0001:\", train_score001 )\n",
    "print (\"test score for alpha =0.0001: \", test_score001)\n",
    "print (\"number of features used: for alpha =0.0001:\", coeff_used001)"
   ]
  },
  {
   "cell_type": "code",
   "execution_count": 220,
   "metadata": {},
   "outputs": [
    {
     "name": "stdout",
     "output_type": "stream",
     "text": [
      "0.14449963824310105\n"
     ]
    }
   ],
   "source": [
    "from sklearn.linear_model import Ridge\n",
    "\n",
    "model = Ridge(alpha=0.0005)\n",
    "\n",
    "model.fit(trainX,trainY)\n",
    "y_pred = model.predict(testX)\n",
    "y_pred = np.exp(y_pred)\n",
    "print(rmsle(testY, y_pred))\n",
    "\n",
    "res = pd.DataFrame({\"Model\":['Ridge'],\n",
    "                    \"RMSLE\": [rmsle(testY, y_pred)]})\n",
    "Results = Results.append(res)"
   ]
  },
  {
   "cell_type": "code",
   "execution_count": 221,
   "metadata": {},
   "outputs": [
    {
     "name": "stdout",
     "output_type": "stream",
     "text": [
      "0.13989786825618222\n"
     ]
    }
   ],
   "source": [
    "from sklearn.linear_model import Lasso\n",
    "\n",
    "model = Lasso(alpha=0)\n",
    "\n",
    "model.fit(trainX,trainY)\n",
    "y_pred = model.predict(testX)\n",
    "y_pred = np.exp(y_pred)\n",
    "print(rmsle(testY, y_pred))\n",
    "\n",
    "res = pd.DataFrame({\"Model\":['Linear Regression'],\n",
    "                    \"RMSLE\": [rmsle(testY, y_pred)]})\n",
    "Results = Results.append(res)"
   ]
  },
  {
   "cell_type": "code",
   "execution_count": 222,
   "metadata": {},
   "outputs": [
    {
     "name": "stdout",
     "output_type": "stream",
     "text": [
      "1\n",
      "2\n",
      "3\n",
      "4\n",
      "5\n",
      "6\n",
      "7\n",
      "8\n",
      "9\n",
      "10\n",
      "11\n",
      "12\n",
      "13\n",
      "14\n",
      "15\n",
      "16\n",
      "17\n",
      "18\n",
      "19\n",
      "20\n",
      "21\n",
      "22\n",
      "23\n",
      "24\n",
      "25\n",
      "26\n",
      "27\n",
      "28\n",
      "29\n",
      "30\n",
      "31\n",
      "32\n",
      "33\n",
      "34\n",
      "35\n",
      "36\n",
      "37\n",
      "38\n",
      "39\n",
      "40\n",
      "41\n",
      "42\n",
      "43\n",
      "44\n",
      "45\n",
      "46\n",
      "47\n",
      "48\n",
      "49\n",
      "50\n",
      "51\n",
      "52\n",
      "53\n",
      "54\n",
      "55\n",
      "56\n",
      "57\n",
      "58\n",
      "59\n",
      "60\n",
      "61\n",
      "62\n",
      "63\n",
      "64\n",
      "65\n",
      "66\n",
      "67\n",
      "68\n",
      "69\n",
      "70\n",
      "71\n",
      "72\n",
      "73\n",
      "74\n",
      "75\n",
      "76\n",
      "77\n",
      "78\n",
      "79\n",
      "80\n",
      "81\n",
      "82\n",
      "83\n",
      "84\n",
      "85\n",
      "86\n",
      "87\n",
      "88\n",
      "89\n",
      "90\n",
      "91\n",
      "92\n",
      "93\n",
      "94\n",
      "95\n",
      "96\n",
      "97\n",
      "98\n",
      "99\n",
      "100\n",
      "101\n",
      "102\n",
      "103\n",
      "104\n",
      "105\n",
      "106\n",
      "107\n",
      "108\n",
      "109\n",
      "110\n",
      "111\n",
      "112\n",
      "113\n",
      "114\n",
      "115\n",
      "116\n",
      "117\n",
      "118\n",
      "119\n",
      "120\n",
      "121\n",
      "122\n",
      "123\n",
      "124\n",
      "125\n",
      "126\n",
      "127\n",
      "128\n",
      "129\n",
      "130\n",
      "131\n",
      "132\n",
      "133\n",
      "134\n",
      "135\n",
      "136\n",
      "137\n",
      "138\n",
      "139\n",
      "140\n",
      "141\n",
      "142\n",
      "143\n",
      "144\n",
      "145\n",
      "146\n",
      "147\n",
      "148\n",
      "149\n",
      "150\n",
      "151\n",
      "152\n",
      "153\n",
      "154\n",
      "155\n",
      "156\n",
      "157\n",
      "158\n",
      "159\n",
      "160\n",
      "161\n",
      "162\n",
      "163\n",
      "164\n",
      "165\n",
      "166\n",
      "167\n",
      "168\n"
     ]
    }
   ],
   "source": [
    "import statsmodels.api as sm\n",
    "\n",
    "X2 = sm.add_constant(trainX)\n",
    "o=0\n",
    "for i in X2.columns:\n",
    "    o+=1\n",
    "    print(o)\n",
    "    model = sm.OLS(trainY, X2.astype(float))\n",
    "    model = model.fit()\n",
    "    p_values = pd.DataFrame(model.pvalues)\n",
    "    p_values = p_values.sort_values(by=0, ascending=False)\n",
    "    if float(p_values.loc[p_values.index[0]])>=0.05:\n",
    "        X2=X2.drop(p_values.index[0],axis=1)\n",
    "    else:\n",
    "        break\n",
    "\n",
    "kolumny = X2.columns\n",
    "testX2 = sm.add_constant(testX)\n",
    "testX2 = testX2[kolumny]\n",
    "\n",
    "y_pred = model.predict(testX2)\n",
    "y_pred = np.exp(y_pred)\n",
    "\n",
    "\n",
    "res = pd.DataFrame({\"Model\":['Stepwise Regression'],\n",
    "                    \"RMSLE\": [rmsle(testY, y_pred)]})\n",
    "Results = Results.append(res)"
   ]
  },
  {
   "cell_type": "code",
   "execution_count": null,
   "metadata": {},
   "outputs": [],
   "source": []
  }
 ],
 "metadata": {
  "kernelspec": {
   "display_name": "Python 3",
   "language": "python",
   "name": "python3"
  },
  "language_info": {
   "codemirror_mode": {
    "name": "ipython",
    "version": 3
   },
   "file_extension": ".py",
   "mimetype": "text/x-python",
   "name": "python",
   "nbconvert_exporter": "python",
   "pygments_lexer": "ipython3",
   "version": "3.7.3"
  }
 },
 "nbformat": 4,
 "nbformat_minor": 2
}
